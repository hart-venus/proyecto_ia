{
 "cells": [
  {
   "cell_type": "markdown",
   "metadata": {},
   "source": [
    "# Proyecto de Machine Learning\n",
    "Ariel Leyva c.2022175018 \\\n",
    "Mario Barboza c.2021075241 \\\n",
    "Camilo Sánchez \\\n",
    "Dayron Padilla"
   ]
  },
  {
   "cell_type": "markdown",
   "metadata": {},
   "source": [
    "## 1. Entendimiento del Negocio"
   ]
  },
  {
   "cell_type": "markdown",
   "metadata": {},
   "source": [
    "### 1.1 Determine business objectives\n",
    "Entendido, ajustaremos el enfoque de la fase de Entendimiento del Negocio para reflejar que se trata de un proyecto universitario con el dataset de Kaggle sobre la pobreza en Costa Rica. Aquí va una versión revisada acorde a tu contexto:\n",
    "\n",
    "### Background (Antecedentes)\n",
    "- **Organización**: Grupo de estudiantes de una universidad.\n",
    "- **Situación de Negocio**: Para un proyecto de curso de Inteligencia Artificial, el grupo de estudiantes busca aplicar técnicas de Machine Learning para analizar y predecir niveles de pobreza en Costa Rica utilizando un dataset disponible en Kaggle. El objetivo es ganar experiencia práctica en el manejo de proyectos de datos y contribuir a la comprensión de la problemática social mediante la aplicación de tecnología.\n",
    "\n",
    "### Business Objectives (Objetivos del Negocio)\n",
    "- **Objetivo Principal**: Utilizar técnicas de minería de datos para clasificar hogares en Costa Rica según su nivel de vulnerabilidad económica, basándose en características socioeconómicas y demográficas disponibles en el dataset de Kaggle.\n",
    "- **Objetivos Secundarios**: \n",
    "  - Desarrollar habilidades prácticas en el procesamiento, análisis y modelado de datos utilizando herramientas y lenguajes de programación específicos (por ejemplo, Python, pandas, numpy).\n",
    "  - Contribuir al entendimiento de los factores que influyen en los niveles de pobreza en Costa Rica, potencialmente identificando áreas de interés para futuras investigaciones o intervenciones.\n",
    "\n",
    "### Business Success Criteria (Criterios de Éxito del Negocio)\n",
    "- **Reducción cuantificable de la pobreza** : Lograr una disminución específica en los niveles de pobreza y vulnerabilidad económica medidos por el sistema de clasificación utilizado.\n",
    "- **Mejora en la eficiencia de asignación de recursos** : Aumentar la precisión en la identificación de hogares necesitados, permitiendo una distribución más efectiva de los recursos\n",
    "- **Completitud del Proyecto**: Finalizar el proyecto dentro del plazo del curso, presentando un reporte final que incluya el análisis realizado, los modelos desarrollados y las conclusiones obtenidas.\n",
    "- **Aplicación Práctica de Conocimientos**: Demostrar la habilidad para aplicar teorías y técnicas de Inteligencia Artificial y Machine Learning a un problema real de clasificación.\n",
    "\n",
    "### 1.2 Assess Situation (Evaluación de la Situación)\n",
    "\n",
    "#### Inventory of Resources (Inventario de Recursos)\n",
    "- **Personal**: Estudiantes del curso, con acceso a asesorías del profesorado.\n",
    "- **Datos**: Dataset de \"Costa Rica Poverty Exploration Kernel\" encontrado en Kaggle.\n",
    "- **Recursos Computacionales**: Ordenadores personales, acceso a software estadístico y de minería de datos (Python, Jupyter Notebooks).\n",
    "\n",
    "#### Requirements, Assumptions and Constraints (Requisitos, Suposiciones y Restricciones)\n",
    "- **Requisitos**: Cumplir con los criterios de evaluación del curso, incluyendo plazos de entrega(26 de abril 2024).\n",
    "- **Suposiciones**: El dataset es representativo y contiene los datos necesarios para realizar la clasificación deseada.\n",
    "- **Restricciones**: Limitaciones de tiempo debido al calendario académico y posibles limitaciones de hardware para el procesamiento de datos.\n",
    "\n",
    "#### Risks and Contingencies (Riesgos y Contingencias)\n",
    "- **Riesgo**: Dificultades técnicas o conceptuales en el manejo de los algoritmos de Machine Learning.\n",
    "- **Contingencia**: Consultar recursos adicionales, buscar asesoramiento del profesor o utilizar foros en línea como Stack Overflow y github.\n",
    "\n",
    "#### Terminology (Terminología)\n",
    "Claro, vamos a detallar la terminología y luego elaborar un plan de proyecto que distribuya las tareas entre los cuatro integrantes, cubriendo las fases del proyecto y asignando un algoritmo de Machine Learning a cada uno.\n",
    "\n",
    "### Terminología\n",
    "\n",
    "#### Términos de Negocio\n",
    "- **Niveles de Pobreza**: Categorías definidas para clasificar los hogares según su nivel económico. Incluyen extrema pobreza, pobreza moderada, hogares vulnerables y hogares no vulnerables.\n",
    "- **Hogar**: Grupo de personas, generalmente una familia, que viven juntas y comparten gastos.\n",
    "- **Vulnerabilidad Económica**: Situación de los hogares que los hace susceptibles a caer en pobreza ante crisis económicas, desastres naturales o emergencias.\n",
    "\n",
    "#### Términos de Minería de Datos\n",
    "- **Clasificación**: Tarea de Machine Learning donde el objetivo es predecir la etiqueta de categoría para nuevas instancias, basada en el aprendizaje de un conjunto de datos de entrenamiento.\n",
    "- **Regresión**: Método de Machine Learning utilizado para predecir una variable continua basada en una o más variables independientes.\n",
    "- **Preprocesamiento de Datos**: Conjunto de procesos aplicados a los datos para prepararlos para el análisis. Incluye la limpieza de datos, normalización, transformación y selección de características.\n",
    "- **Validación Cruzada**: Técnica para evaluar cómo los resultados de un modelo estadístico se generalizarán a un conjunto de datos independiente. Implica dividir los datos en partes, donde una parte se utiliza para entrenar el modelo y la otra parte para testearlo, repitiendo el proceso varias veces.\n",
    "\n",
    "#### Costs and Benefits (Costos y Beneficios)\n",
    "- El principal \"costo\" es el tiempo y esfuerzo dedicado al proyecto. Los \"beneficios\" incluyen el aprendizaje adquirido y la contribución a un tema social relevante.\n",
    "\n",
    "### 1.3 Determine Data Mining Goals (Determinar Objetivos de Minería de Datos)\n",
    "- **Objetivo**: Predicción del nivel de pobreza de los hogares basándose en el dataset.\n",
    "- **Criterio de Éxito Técnico**: Alcanzar un nivel significativo de precisión y recall en las predicciones del modelo.\n",
    "\n",
    "### 1.4 Produce Project Plan (Producir Plan de Proyecto)\n",
    "#### Fase 1: Preparación de Datos\n",
    "- **Todos los Integrantes**: Participarán en la limpieza, normalización y selección de características del dataset. Esta etapa es crucial y requiere el esfuerzo conjunto para asegurar que los datos estén listos para el modelado.\n",
    "\n",
    "#### Fase 2: Selección de Modelos y Entrenamiento\n",
    "- Cada integrante se encargará de implementar y entrenar un algoritmo de Machine Learning, asegurándose de optimizar los parámetros para obtener el mejor rendimiento posible.\n",
    "  1. **Integrante 1**: por definir\n",
    "  2. **Integrante 2**: por definir\n",
    "  3. **Integrante 3**: por definir\n",
    "  4. **Integrante 4**: por definir\n",
    "\n",
    "#### Fase 3: Evaluación\n",
    "- **Todos los Integrantes**: Realizarán la validación cruzada de sus modelos para evaluar su desempeño. Se espera que cada uno presente los resultados obtenidos, incluyendo la precisión, recall y el F1 score de su modelo.\n",
    "\n",
    "#### Fase 4: Análisis de Resultados y Conclusión\n",
    "- **Colaboración Conjunta**: Todos los integrantes colaborarán en la interpretación de los resultados, discutiendo las fortalezas y debilidades de cada modelo. Se seleccionará el modelo con el mejor desempeño para ser el principal hallazgo del proyecto.\n",
    "- **Presentación Final**: Preparación de una presentación que resuma el proceso del proyecto, los modelos utilizados, su desempeño y las conclusiones principales.\n",
    "\n"
   ]
  },
  {
   "cell_type": "markdown",
   "metadata": {},
   "source": [
    "## 2. Entendimiento de los Datos\n"
   ]
  },
  {
   "cell_type": "markdown",
   "metadata": {},
   "source": [
    "### Recompilación y Descripción de Datos\n",
    "### Exploración y Calidad de Datos"
   ]
  },
  {
   "cell_type": "markdown",
   "metadata": {},
   "source": [
    "## 3. Preparación de los Datos\n",
    "### Limpieza y Selección de Datos\n",
    "### Construcción de Datos y Transformación"
   ]
  },
  {
   "cell_type": "markdown",
   "metadata": {},
   "source": [
    "## 4. Modelado \n",
    "### Selección de Modelo y Experimentación\n",
    "- probar 4 distintos algoritmos de clasificación\n",
    "### Evaluación y Validación del Modelo \n",
    "- usar cross validation"
   ]
  },
  {
   "cell_type": "markdown",
   "metadata": {},
   "source": [
    "## 5. Criterio de Selección y Conclusiones\n",
    "### Análisis de Resultados\n",
    "- variables mas importantes\n",
    "### Justificación del Modelo Seleccionado\n"
   ]
  },
  {
   "cell_type": "markdown",
   "metadata": {},
   "source": [
    "!kaggle datasets download -d shivamb/costa-rica-poverty-exploration-kernel\n"
   ]
  }
 ],
 "metadata": {
  "language_info": {
   "name": "python"
  }
 },
 "nbformat": 4,
 "nbformat_minor": 2
}
