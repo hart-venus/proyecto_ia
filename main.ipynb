{
 "cells": [
  {
   "cell_type": "markdown",
   "metadata": {},
   "source": [
    "# Proyecto de Machine Learning\n",
    "Ariel Leyva c.2022175018 \\\n",
    "Mario Barboza \\\n",
    "Camilo Sánchez \\\n",
    "Dayron Padilla"
   ]
  },
  {
   "cell_type": "markdown",
   "metadata": {},
   "source": [
    "## 1. Entendimiento del Negocio"
   ]
  },
  {
   "cell_type": "markdown",
   "metadata": {},
   "source": [
    "### Objetivos del Negocio\n",
    "### Criterios de Éxito del Negocio\n",
    "### Objetivos de Minería de Datos\n",
    "### Criterios de Éxito de Minería de Datos"
   ]
  },
  {
   "cell_type": "markdown",
   "metadata": {},
   "source": [
    "## 2. Entendimiento de los Datos\n"
   ]
  },
  {
   "cell_type": "markdown",
   "metadata": {},
   "source": [
    "### Recompilación y Descripción de Datos\n",
    "### Exploración y Calidad de Datos"
   ]
  },
  {
   "cell_type": "markdown",
   "metadata": {},
   "source": [
    "## 3. Preparación de los Datos\n",
    "### Limpieza y Selección de Datos\n",
    "### Construcción de Datos y Transformación"
   ]
  },
  {
   "cell_type": "markdown",
   "metadata": {},
   "source": [
    "## 4. Modelado \n",
    "### Selección de Modelo y Experimentación\n",
    "- probar 4 distintos algoritmos de clasificación\n",
    "### Evaluación y Validación del Modelo \n",
    "- usar cross validation"
   ]
  },
  {
   "cell_type": "markdown",
   "metadata": {},
   "source": [
    "## 5. Criterio de Selección y Conclusiones\n",
    "### Análisis de Resultados\n",
    "- variables mas importantes\n",
    "### Justificación del Modelo Seleccionado\n"
   ]
  }
 ],
 "metadata": {
  "language_info": {
   "name": "python"
  }
 },
 "nbformat": 4,
 "nbformat_minor": 2
}
